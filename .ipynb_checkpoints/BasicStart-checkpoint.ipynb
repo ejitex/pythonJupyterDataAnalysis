{
 "cells": [
  {
   "cell_type": "markdown",
   "id": "64fba379",
   "metadata": {},
   "source": [
    "# Python for Data Analysis"
   ]
  },
  {
   "cell_type": "markdown",
   "id": "581b4621",
   "metadata": {},
   "source": [
    "## DataTypes"
   ]
  },
  {
   "cell_type": "code",
   "execution_count": 5,
   "id": "aa38c108",
   "metadata": {},
   "outputs": [
    {
     "data": {
      "text/plain": [
       "int"
      ]
     },
     "execution_count": 5,
     "metadata": {},
     "output_type": "execute_result"
    }
   ],
   "source": [
    "#datatype\n",
    "type(3)"
   ]
  },
  {
   "cell_type": "code",
   "execution_count": 6,
   "id": "4ccbfafc",
   "metadata": {},
   "outputs": [
    {
     "data": {
      "text/plain": [
       "float"
      ]
     },
     "execution_count": 6,
     "metadata": {},
     "output_type": "execute_result"
    }
   ],
   "source": [
    "type(2.0)"
   ]
  },
  {
   "cell_type": "code",
   "execution_count": 7,
   "id": "6e4aba16",
   "metadata": {},
   "outputs": [
    {
     "data": {
      "text/plain": [
       "bool"
      ]
     },
     "execution_count": 7,
     "metadata": {},
     "output_type": "execute_result"
    }
   ],
   "source": [
    "type(True)"
   ]
  },
  {
   "cell_type": "code",
   "execution_count": 8,
   "id": "4962659d",
   "metadata": {},
   "outputs": [
    {
     "data": {
      "text/plain": [
       "str"
      ]
     },
     "execution_count": 8,
     "metadata": {},
     "output_type": "execute_result"
    }
   ],
   "source": [
    "type(\"\")"
   ]
  },
  {
   "cell_type": "code",
   "execution_count": 10,
   "id": "f7fcde55",
   "metadata": {},
   "outputs": [
    {
     "data": {
      "text/plain": [
       "'HELLO WORLD'"
      ]
     },
     "execution_count": 10,
     "metadata": {},
     "output_type": "execute_result"
    }
   ],
   "source": [
    "\"Hello World\".upper()"
   ]
  },
  {
   "cell_type": "code",
   "execution_count": 13,
   "id": "aee542fd",
   "metadata": {},
   "outputs": [
    {
     "name": "stdout",
     "output_type": "stream",
     "text": [
      "HELLO WORLD\n",
      "hello world\n",
      "Hello World\n"
     ]
    }
   ],
   "source": [
    "## printing more than 1 line in a cell\n",
    "print(\"Hello World\".upper())\n",
    "print(\"Hello World\".lower())\n",
    "print(\"Hello World\".title())"
   ]
  },
  {
   "cell_type": "code",
   "execution_count": 16,
   "id": "92084ba8",
   "metadata": {},
   "outputs": [
    {
     "data": {
      "text/plain": [
       "3"
      ]
     },
     "execution_count": 16,
     "metadata": {},
     "output_type": "execute_result"
    }
   ],
   "source": [
    "\"Hello World\".count(\"l\")"
   ]
  },
  {
   "cell_type": "code",
   "execution_count": 17,
   "id": "7ae51383",
   "metadata": {},
   "outputs": [
    {
     "data": {
      "text/plain": [
       "2"
      ]
     },
     "execution_count": 17,
     "metadata": {},
     "output_type": "execute_result"
    }
   ],
   "source": [
    "\"Hello World\".count(\"o\")"
   ]
  },
  {
   "cell_type": "markdown",
   "id": "a1dcad33",
   "metadata": {},
   "source": [
    "## Variables"
   ]
  },
  {
   "cell_type": "code",
   "execution_count": 3,
   "id": "c619c9c5",
   "metadata": {},
   "outputs": [
    {
     "data": {
      "text/plain": [
       "28"
      ]
     },
     "execution_count": 3,
     "metadata": {},
     "output_type": "execute_result"
    }
   ],
   "source": [
    "l = 4\n",
    "x = 7\n",
    "l*x"
   ]
  },
  {
   "cell_type": "code",
   "execution_count": 18,
   "id": "50f530b0",
   "metadata": {},
   "outputs": [],
   "source": [
    "message = \"My name is Kenneth Ejiofor\"\n",
    "message_2 = \"I'm learning python for data analysis\""
   ]
  },
  {
   "cell_type": "code",
   "execution_count": 19,
   "id": "9594305d",
   "metadata": {},
   "outputs": [
    {
     "data": {
      "text/plain": [
       "\"My name is Kenneth Ejiofor I'm learning python for data analysis\""
      ]
     },
     "execution_count": 19,
     "metadata": {},
     "output_type": "execute_result"
    }
   ],
   "source": [
    "message +\" \"+message_2"
   ]
  },
  {
   "cell_type": "code",
   "execution_count": 25,
   "id": "aa1145e3",
   "metadata": {},
   "outputs": [
    {
     "data": {
      "text/plain": [
       "\"My name is Kenneth Ejiofor I'm learning python for data analysis\""
      ]
     },
     "execution_count": 25,
     "metadata": {},
     "output_type": "execute_result"
    }
   ],
   "source": [
    "f'{message} {message_2}'"
   ]
  },
  {
   "cell_type": "markdown",
   "id": "e2cf0248",
   "metadata": {},
   "source": [
    "## List"
   ]
  },
  {
   "cell_type": "code",
   "execution_count": 2,
   "id": "53be0879",
   "metadata": {},
   "outputs": [
    {
     "data": {
      "text/plain": [
       "['US', 'PL', 'DK', 'NG', 'CA', 'NL']"
      ]
     },
     "execution_count": 2,
     "metadata": {},
     "output_type": "execute_result"
    }
   ],
   "source": [
    "country = ['US','PL','DK','NG','CA','NL']\n",
    "country"
   ]
  },
  {
   "cell_type": "code",
   "execution_count": 1,
   "id": "78b989c1",
   "metadata": {},
   "outputs": [
    {
     "data": {
      "text/plain": [
       "5"
      ]
     },
     "execution_count": 1,
     "metadata": {},
     "output_type": "execute_result"
    }
   ],
   "source": [
    "##list with indexing -- to get 5 in the list refer to 3rd position as count start from zero\n",
    "list1 = [2,4,5,6,10]\n",
    "list1[2]"
   ]
  },
  {
   "cell_type": "code",
   "execution_count": 32,
   "id": "063e2042",
   "metadata": {},
   "outputs": [
    {
     "data": {
      "text/plain": [
       "'CA'"
      ]
     },
     "execution_count": 32,
     "metadata": {},
     "output_type": "execute_result"
    }
   ],
   "source": [
    "country[4]"
   ]
  },
  {
   "cell_type": "code",
   "execution_count": 35,
   "id": "e244bce4",
   "metadata": {},
   "outputs": [],
   "source": [
    "two = country[5] + \" \"+ country[1]"
   ]
  },
  {
   "cell_type": "code",
   "execution_count": 39,
   "id": "89de0096",
   "metadata": {},
   "outputs": [
    {
     "data": {
      "text/plain": [
       "'A'"
      ]
     },
     "execution_count": 39,
     "metadata": {},
     "output_type": "execute_result"
    }
   ],
   "source": [
    "##list slicing -- example get the 2nd position character 4th position list \"CA\"\n",
    "country[4][1]"
   ]
  },
  {
   "cell_type": "code",
   "execution_count": 41,
   "id": "b0364c30",
   "metadata": {},
   "outputs": [
    {
     "data": {
      "text/plain": [
       "['US', 'PL', 'DK', 'NG']"
      ]
     },
     "execution_count": 41,
     "metadata": {},
     "output_type": "execute_result"
    }
   ],
   "source": [
    "##slicing\n",
    "country[0:4]"
   ]
  },
  {
   "cell_type": "code",
   "execution_count": 42,
   "id": "12ebd5a9",
   "metadata": {},
   "outputs": [
    {
     "data": {
      "text/plain": [
       "['DK', 'NG', 'CA', 'NL']"
      ]
     },
     "execution_count": 42,
     "metadata": {},
     "output_type": "execute_result"
    }
   ],
   "source": [
    "country[2:]"
   ]
  },
  {
   "cell_type": "markdown",
   "id": "c9a03324",
   "metadata": {},
   "source": [
    "### Add element to a list"
   ]
  },
  {
   "cell_type": "code",
   "execution_count": 43,
   "id": "69fbfcca",
   "metadata": {},
   "outputs": [],
   "source": [
    "country.append(\"UK\")"
   ]
  },
  {
   "cell_type": "code",
   "execution_count": 44,
   "id": "be8dd37a",
   "metadata": {},
   "outputs": [
    {
     "data": {
      "text/plain": [
       "['US', 'PL', 'DK', 'NG', 'CA', 'NL', 'UK']"
      ]
     },
     "execution_count": 44,
     "metadata": {},
     "output_type": "execute_result"
    }
   ],
   "source": [
    "country"
   ]
  },
  {
   "cell_type": "code",
   "execution_count": 48,
   "id": "b222ebf1",
   "metadata": {},
   "outputs": [
    {
     "data": {
      "text/plain": [
       "['AT', 'AT', 'AT', 'AT', 'US', 'PL', 'DK', 'NG', 'CA', 'NL', 'UK']"
      ]
     },
     "execution_count": 48,
     "metadata": {},
     "output_type": "execute_result"
    }
   ],
   "source": [
    "country.insert(0,\"AT\")\n",
    "country"
   ]
  },
  {
   "cell_type": "code",
   "execution_count": 53,
   "id": "05b1e376",
   "metadata": {},
   "outputs": [
    {
     "data": {
      "text/plain": [
       "['AT', 'AT', 'AT', 'US', 'PL', 'DK', 'NG', 'CA', 'NL']"
      ]
     },
     "execution_count": 53,
     "metadata": {},
     "output_type": "execute_result"
    }
   ],
   "source": [
    "country"
   ]
  },
  {
   "cell_type": "markdown",
   "id": "21169974",
   "metadata": {},
   "source": [
    "### Remove element from a list"
   ]
  },
  {
   "cell_type": "code",
   "execution_count": 50,
   "id": "9adcae1c",
   "metadata": {},
   "outputs": [
    {
     "data": {
      "text/plain": [
       "'AT'"
      ]
     },
     "execution_count": 50,
     "metadata": {},
     "output_type": "execute_result"
    }
   ],
   "source": [
    "country.pop(1)"
   ]
  },
  {
   "cell_type": "code",
   "execution_count": 52,
   "id": "602153e2",
   "metadata": {},
   "outputs": [
    {
     "data": {
      "text/plain": [
       "'UK'"
      ]
     },
     "execution_count": 52,
     "metadata": {},
     "output_type": "execute_result"
    }
   ],
   "source": [
    "country.pop()"
   ]
  },
  {
   "cell_type": "code",
   "execution_count": 55,
   "id": "7172f81a",
   "metadata": {},
   "outputs": [],
   "source": [
    "country.remove(\"AT\")"
   ]
  },
  {
   "cell_type": "code",
   "execution_count": 4,
   "id": "35ed9fcf",
   "metadata": {},
   "outputs": [
    {
     "data": {
      "text/plain": [
       "['CA', 'DK', 'NG', 'NL', 'PL', 'US']"
      ]
     },
     "execution_count": 4,
     "metadata": {},
     "output_type": "execute_result"
    }
   ],
   "source": [
    "country"
   ]
  },
  {
   "cell_type": "code",
   "execution_count": 5,
   "id": "fa912f08",
   "metadata": {},
   "outputs": [],
   "source": [
    "del country[-1]"
   ]
  },
  {
   "cell_type": "code",
   "execution_count": 6,
   "id": "49204d17",
   "metadata": {},
   "outputs": [
    {
     "data": {
      "text/plain": [
       "['CA', 'DK', 'NG', 'NL', 'PL']"
      ]
     },
     "execution_count": 6,
     "metadata": {},
     "output_type": "execute_result"
    }
   ],
   "source": [
    "country"
   ]
  },
  {
   "cell_type": "code",
   "execution_count": 8,
   "id": "694fa56a",
   "metadata": {},
   "outputs": [
    {
     "data": {
      "text/plain": [
       "[20, 2, 3, 4, 6, 8]"
      ]
     },
     "execution_count": 8,
     "metadata": {},
     "output_type": "execute_result"
    }
   ],
   "source": [
    "number = [20, 2,3,4,6,8]\n",
    "number"
   ]
  },
  {
   "cell_type": "markdown",
   "id": "c4ebbf9c",
   "metadata": {},
   "source": [
    "### Sorting a list"
   ]
  },
  {
   "cell_type": "code",
   "execution_count": 12,
   "id": "cc1b4ec9",
   "metadata": {},
   "outputs": [
    {
     "data": {
      "text/plain": [
       "['PL', 'NL', 'NG', 'DK', 'CA']"
      ]
     },
     "execution_count": 12,
     "metadata": {},
     "output_type": "execute_result"
    }
   ],
   "source": [
    "country.sort(reverse=True)\n",
    "country"
   ]
  },
  {
   "cell_type": "code",
   "execution_count": 10,
   "id": "55c6ffbb",
   "metadata": {},
   "outputs": [
    {
     "data": {
      "text/plain": [
       "[2, 3, 4, 6, 8, 20]"
      ]
     },
     "execution_count": 10,
     "metadata": {},
     "output_type": "execute_result"
    }
   ],
   "source": [
    "number.sort()\n",
    "number"
   ]
  },
  {
   "cell_type": "markdown",
   "id": "6184bb8e",
   "metadata": {},
   "source": [
    "### Update an element in a list"
   ]
  },
  {
   "cell_type": "code",
   "execution_count": 14,
   "id": "a5cea19a",
   "metadata": {},
   "outputs": [
    {
     "data": {
      "text/plain": [
       "[2, 3, 4, 6, 900, 20]"
      ]
     },
     "execution_count": 14,
     "metadata": {},
     "output_type": "execute_result"
    }
   ],
   "source": [
    "number[-2] = 900\n",
    "number"
   ]
  },
  {
   "cell_type": "code",
   "execution_count": 15,
   "id": "25608d1b",
   "metadata": {},
   "outputs": [
    {
     "data": {
      "text/plain": [
       "[2, 3, 4]"
      ]
     },
     "execution_count": 15,
     "metadata": {},
     "output_type": "execute_result"
    }
   ],
   "source": [
    "##Copying a list\n",
    "copied = number[0:3]\n",
    "copied"
   ]
  },
  {
   "cell_type": "code",
   "execution_count": 16,
   "id": "ee103efc",
   "metadata": {},
   "outputs": [
    {
     "data": {
      "text/plain": [
       "[2, 3, 4, 6, 900, 20]"
      ]
     },
     "execution_count": 16,
     "metadata": {},
     "output_type": "execute_result"
    }
   ],
   "source": [
    "number"
   ]
  },
  {
   "cell_type": "code",
   "execution_count": 17,
   "id": "5bda8d28",
   "metadata": {},
   "outputs": [
    {
     "data": {
      "text/plain": [
       "[2, 3, 4]"
      ]
     },
     "execution_count": 17,
     "metadata": {},
     "output_type": "execute_result"
    }
   ],
   "source": [
    "copied"
   ]
  },
  {
   "cell_type": "markdown",
   "id": "616d5efa",
   "metadata": {},
   "source": [
    "### Dictionary"
   ]
  },
  {
   "cell_type": "code",
   "execution_count": 19,
   "id": "e614a305",
   "metadata": {},
   "outputs": [
    {
     "data": {
      "text/plain": [
       "{'key1': 'value', 'key2': 300}"
      ]
     },
     "execution_count": 19,
     "metadata": {},
     "output_type": "execute_result"
    }
   ],
   "source": [
    "dict_2 = {\"key1\":\"value\",\"key2\":300}\n",
    "dict_2"
   ]
  },
  {
   "cell_type": "code",
   "execution_count": 21,
   "id": "b268938e",
   "metadata": {},
   "outputs": [
    {
     "data": {
      "text/plain": [
       "dict_keys(['key1', 'key2'])"
      ]
     },
     "execution_count": 21,
     "metadata": {},
     "output_type": "execute_result"
    }
   ],
   "source": [
    "dict_2.keys()"
   ]
  },
  {
   "cell_type": "code",
   "execution_count": 22,
   "id": "828811f1",
   "metadata": {},
   "outputs": [
    {
     "data": {
      "text/plain": [
       "dict_values(['value', 300])"
      ]
     },
     "execution_count": 22,
     "metadata": {},
     "output_type": "execute_result"
    }
   ],
   "source": [
    "dict_2.values()"
   ]
  },
  {
   "cell_type": "code",
   "execution_count": 18,
   "id": "b1113d15",
   "metadata": {},
   "outputs": [
    {
     "data": {
      "text/plain": [
       "{'apple': 3, 'kiwi': 5, 'Orange': 4, 'Banana': 5}"
      ]
     },
     "execution_count": 18,
     "metadata": {},
     "output_type": "execute_result"
    }
   ],
   "source": [
    "fruit ={\"apple\":3,\"kiwi\":5,\"Orange\":4, \"Banana\":5}\n",
    "fruit"
   ]
  },
  {
   "cell_type": "code",
   "execution_count": 30,
   "id": "d621e43a",
   "metadata": {},
   "outputs": [],
   "source": [
    "##grab an item in a dictionary\n",
    "item_1 = list(fruit.items())[0]\n",
    "item_2 = list(fruit.items())[1]\n",
    "item_last = list(fruit.items())[-1]"
   ]
  },
  {
   "cell_type": "code",
   "execution_count": 31,
   "id": "b8d00355",
   "metadata": {},
   "outputs": [
    {
     "data": {
      "text/plain": [
       "('apple', 3)"
      ]
     },
     "execution_count": 31,
     "metadata": {},
     "output_type": "execute_result"
    }
   ],
   "source": [
    "item_1"
   ]
  },
  {
   "cell_type": "code",
   "execution_count": 32,
   "id": "f1e77337",
   "metadata": {},
   "outputs": [
    {
     "data": {
      "text/plain": [
       "('kiwi', 5)"
      ]
     },
     "execution_count": 32,
     "metadata": {},
     "output_type": "execute_result"
    }
   ],
   "source": [
    "item_2\n"
   ]
  },
  {
   "cell_type": "code",
   "execution_count": 33,
   "id": "e61fc2c3",
   "metadata": {},
   "outputs": [
    {
     "data": {
      "text/plain": [
       "('Banana', 5)"
      ]
     },
     "execution_count": 33,
     "metadata": {},
     "output_type": "execute_result"
    }
   ],
   "source": [
    "item_last"
   ]
  },
  {
   "cell_type": "code",
   "execution_count": 36,
   "id": "8e494226",
   "metadata": {},
   "outputs": [
    {
     "data": {
      "text/plain": [
       "3"
      ]
     },
     "execution_count": 36,
     "metadata": {},
     "output_type": "execute_result"
    }
   ],
   "source": [
    "###grab only the value\n",
    "value_of_apple = list(fruit.values())[0]\n",
    "value_of_apple"
   ]
  },
  {
   "cell_type": "code",
   "execution_count": 37,
   "id": "7845e098",
   "metadata": {},
   "outputs": [
    {
     "data": {
      "text/plain": [
       "'Banana'"
      ]
     },
     "execution_count": 37,
     "metadata": {},
     "output_type": "execute_result"
    }
   ],
   "source": [
    "##grab a dictionary key\n",
    "last_item_key = list(fruit.keys())[-1]\n",
    "last_item_key"
   ]
  },
  {
   "cell_type": "markdown",
   "id": "af687efc",
   "metadata": {},
   "source": [
    "### Add an element to a dictionary"
   ]
  },
  {
   "cell_type": "code",
   "execution_count": 39,
   "id": "504b8b4f",
   "metadata": {},
   "outputs": [
    {
     "data": {
      "text/plain": [
       "{'apple': 3, 'kiwi': 5, 'Orange': 4, 'Banana': 5, 'Lemon': 8}"
      ]
     },
     "execution_count": 39,
     "metadata": {},
     "output_type": "execute_result"
    }
   ],
   "source": [
    "fruit[\"Lemon\"] = 8\n",
    "fruit"
   ]
  },
  {
   "cell_type": "code",
   "execution_count": 40,
   "id": "b891e760",
   "metadata": {},
   "outputs": [
    {
     "data": {
      "text/plain": [
       "{'apple': 3, 'kiwi': 5, 'Orange': 4, 'Banana': 5, 'Lemon': 8, 'Kiwi': 9}"
      ]
     },
     "execution_count": 40,
     "metadata": {},
     "output_type": "execute_result"
    }
   ],
   "source": [
    "##Update value of item in a dictionary\n",
    "fruit.update({\"Kiwi\": 9})\n",
    "fruit"
   ]
  },
  {
   "cell_type": "code",
   "execution_count": 41,
   "id": "8db0ef1e",
   "metadata": {},
   "outputs": [
    {
     "data": {
      "text/plain": [
       "dict_values([3, 5, 4, 5, 8, 9])"
      ]
     },
     "execution_count": 41,
     "metadata": {},
     "output_type": "execute_result"
    }
   ],
   "source": [
    "dict_values = fruit.values()\n",
    "dict_values"
   ]
  },
  {
   "cell_type": "markdown",
   "id": "adf067c0",
   "metadata": {},
   "source": [
    "### copying dictionary"
   ]
  },
  {
   "cell_type": "code",
   "execution_count": 47,
   "id": "6fa2d07f",
   "metadata": {},
   "outputs": [
    {
     "data": {
      "text/plain": [
       "{'apple': 3,\n",
       " 'kiwi': 5,\n",
       " 'Orange': 4,\n",
       " 'Banana': 5,\n",
       " 'Lemon': 8,\n",
       " 'Kiwi': 9,\n",
       " 'grapefruit': 15,\n",
       " 'grape': 10}"
      ]
     },
     "execution_count": 47,
     "metadata": {},
     "output_type": "execute_result"
    }
   ],
   "source": [
    "fruit[\"grape\"] = 10\n",
    "fruit"
   ]
  },
  {
   "cell_type": "code",
   "execution_count": 58,
   "id": "4891b20d",
   "metadata": {},
   "outputs": [],
   "source": [
    "##this method of copying is dynamics and changes as the \"fruit\" dict changes\n",
    "new_fruit = fruit"
   ]
  },
  {
   "cell_type": "code",
   "execution_count": 48,
   "id": "6df1e47d",
   "metadata": {},
   "outputs": [
    {
     "data": {
      "text/plain": [
       "{'apple': 3,\n",
       " 'kiwi': 5,\n",
       " 'Orange': 4,\n",
       " 'Banana': 5,\n",
       " 'Lemon': 8,\n",
       " 'Kiwi': 9,\n",
       " 'grapefruit': 15,\n",
       " 'grape': 10}"
      ]
     },
     "execution_count": 48,
     "metadata": {},
     "output_type": "execute_result"
    }
   ],
   "source": [
    "new_fruit"
   ]
  },
  {
   "cell_type": "code",
   "execution_count": 46,
   "id": "325e31dd",
   "metadata": {},
   "outputs": [
    {
     "data": {
      "text/plain": [
       "{'apple': 3,\n",
       " 'kiwi': 5,\n",
       " 'Orange': 4,\n",
       " 'Banana': 5,\n",
       " 'Lemon': 8,\n",
       " 'Kiwi': 9,\n",
       " 'grapefruit': 15}"
      ]
     },
     "execution_count": 46,
     "metadata": {},
     "output_type": "execute_result"
    }
   ],
   "source": [
    "new_fruit"
   ]
  },
  {
   "cell_type": "code",
   "execution_count": 49,
   "id": "1a46b5a3",
   "metadata": {},
   "outputs": [
    {
     "data": {
      "text/plain": [
       "{'apple': 3,\n",
       " 'kiwi': 5,\n",
       " 'Orange': 4,\n",
       " 'Banana': 5,\n",
       " 'Lemon': 8,\n",
       " 'Kiwi': 9,\n",
       " 'grapefruit': 15,\n",
       " 'grape': 10}"
      ]
     },
     "execution_count": 49,
     "metadata": {},
     "output_type": "execute_result"
    }
   ],
   "source": [
    "##this method create a copy and does NOT change if for example \"fruit\" dict changes\n",
    "copied_fruit = fruit.copy()\n",
    "copied_fruit"
   ]
  },
  {
   "cell_type": "markdown",
   "id": "b6a1b0f6",
   "metadata": {},
   "source": [
    "### Remove Element from Dictionary"
   ]
  },
  {
   "cell_type": "code",
   "execution_count": 50,
   "id": "d0295f50",
   "metadata": {},
   "outputs": [
    {
     "data": {
      "text/plain": [
       "15"
      ]
     },
     "execution_count": 50,
     "metadata": {},
     "output_type": "execute_result"
    }
   ],
   "source": [
    "fruit.pop(\"grapefruit\")"
   ]
  },
  {
   "cell_type": "code",
   "execution_count": 51,
   "id": "f1153d07",
   "metadata": {},
   "outputs": [
    {
     "data": {
      "text/plain": [
       "{'apple': 3,\n",
       " 'kiwi': 5,\n",
       " 'Orange': 4,\n",
       " 'Banana': 5,\n",
       " 'Lemon': 8,\n",
       " 'Kiwi': 9,\n",
       " 'grape': 10}"
      ]
     },
     "execution_count": 51,
     "metadata": {},
     "output_type": "execute_result"
    }
   ],
   "source": [
    "fruit"
   ]
  },
  {
   "cell_type": "code",
   "execution_count": 52,
   "id": "13e5e7b7",
   "metadata": {},
   "outputs": [],
   "source": [
    "del fruit[\"grape\"]"
   ]
  },
  {
   "cell_type": "code",
   "execution_count": 53,
   "id": "1d64ff55",
   "metadata": {},
   "outputs": [
    {
     "data": {
      "text/plain": [
       "{'apple': 3, 'kiwi': 5, 'Orange': 4, 'Banana': 5, 'Lemon': 8, 'Kiwi': 9}"
      ]
     },
     "execution_count": 53,
     "metadata": {},
     "output_type": "execute_result"
    }
   ],
   "source": [
    "fruit"
   ]
  },
  {
   "cell_type": "code",
   "execution_count": 54,
   "id": "27d8205f",
   "metadata": {},
   "outputs": [],
   "source": [
    "fruit.clear()"
   ]
  },
  {
   "cell_type": "code",
   "execution_count": 55,
   "id": "27c0d863",
   "metadata": {},
   "outputs": [
    {
     "data": {
      "text/plain": [
       "{}"
      ]
     },
     "execution_count": 55,
     "metadata": {},
     "output_type": "execute_result"
    }
   ],
   "source": [
    "fruit"
   ]
  },
  {
   "cell_type": "code",
   "execution_count": 56,
   "id": "e0f0ec55",
   "metadata": {},
   "outputs": [
    {
     "data": {
      "text/plain": [
       "{}"
      ]
     },
     "execution_count": 56,
     "metadata": {},
     "output_type": "execute_result"
    }
   ],
   "source": [
    "new_fruit"
   ]
  },
  {
   "cell_type": "code",
   "execution_count": 57,
   "id": "8701685e",
   "metadata": {},
   "outputs": [
    {
     "data": {
      "text/plain": [
       "{'apple': 3,\n",
       " 'kiwi': 5,\n",
       " 'Orange': 4,\n",
       " 'Banana': 5,\n",
       " 'Lemon': 8,\n",
       " 'Kiwi': 9,\n",
       " 'grapefruit': 15,\n",
       " 'grape': 10}"
      ]
     },
     "execution_count": 57,
     "metadata": {},
     "output_type": "execute_result"
    }
   ],
   "source": [
    "copied_fruit"
   ]
  },
  {
   "cell_type": "markdown",
   "id": "657f0d24",
   "metadata": {},
   "source": [
    "## If statement"
   ]
  },
  {
   "cell_type": "markdown",
   "id": "1af3668d",
   "metadata": {},
   "source": [
    "if <condition>:\n",
    "    <code>\n",
    "    elseif <condition>:\n",
    "        <code>\n",
    "    else:\n",
    "        <code>"
   ]
  },
  {
   "cell_type": "code",
   "execution_count": 64,
   "id": "7c95afcf",
   "metadata": {},
   "outputs": [
    {
     "name": "stdout",
     "output_type": "stream",
     "text": [
      "You're welcome to the club\n"
     ]
    }
   ],
   "source": [
    "age = 18\n",
    "\n",
    "if age >= 18:\n",
    "    print(\"You're welcome to the club\")\n",
    "else:\n",
    "    print(\"Sorry, You're under age\")"
   ]
  },
  {
   "cell_type": "markdown",
   "id": "e9ea06ed",
   "metadata": {},
   "source": [
    "## For Loop"
   ]
  },
  {
   "cell_type": "markdown",
   "id": "382a6372",
   "metadata": {},
   "source": [
    "for <variable> in <iterable list>:\n",
    "    <code>"
   ]
  },
  {
   "cell_type": "code",
   "execution_count": 66,
   "id": "70a90482",
   "metadata": {},
   "outputs": [
    {
     "data": {
      "text/plain": [
       "['PL', 'NL', 'NG', 'DK', 'CA']"
      ]
     },
     "execution_count": 66,
     "metadata": {},
     "output_type": "execute_result"
    }
   ],
   "source": [
    "country"
   ]
  },
  {
   "cell_type": "code",
   "execution_count": 67,
   "id": "13650f8d",
   "metadata": {},
   "outputs": [
    {
     "name": "stdout",
     "output_type": "stream",
     "text": [
      "PL\n",
      "NL\n",
      "NG\n",
      "DK\n",
      "CA\n"
     ]
    }
   ],
   "source": [
    "for i in country:\n",
    "    print(i)"
   ]
  },
  {
   "cell_type": "code",
   "execution_count": 69,
   "id": "ce6b4e10",
   "metadata": {},
   "outputs": [
    {
     "name": "stdout",
     "output_type": "stream",
     "text": [
      "0\n",
      "PL\n",
      "1\n",
      "NL\n",
      "2\n",
      "NG\n",
      "3\n",
      "DK\n",
      "4\n",
      "CA\n"
     ]
    }
   ],
   "source": [
    "for i, countries in enumerate(country):\n",
    "    print(i)\n",
    "    print(countries)"
   ]
  },
  {
   "cell_type": "markdown",
   "id": "e30d9b05",
   "metadata": {},
   "source": [
    "### Looping through a dictionary"
   ]
  },
  {
   "cell_type": "code",
   "execution_count": 71,
   "id": "808660b0",
   "metadata": {},
   "outputs": [
    {
     "data": {
      "text/plain": [
       "{'apple': 3,\n",
       " 'kiwi': 5,\n",
       " 'Orange': 4,\n",
       " 'Banana': 5,\n",
       " 'Lemon': 8,\n",
       " 'Kiwi': 9,\n",
       " 'grapefruit': 15,\n",
       " 'grape': 10}"
      ]
     },
     "execution_count": 71,
     "metadata": {},
     "output_type": "execute_result"
    }
   ],
   "source": [
    "copied_fruit"
   ]
  },
  {
   "cell_type": "code",
   "execution_count": 75,
   "id": "b4264809",
   "metadata": {},
   "outputs": [
    {
     "name": "stdout",
     "output_type": "stream",
     "text": [
      "apple\n",
      "3\n",
      "kiwi\n",
      "5\n",
      "Orange\n",
      "4\n",
      "Banana\n",
      "5\n",
      "Lemon\n",
      "8\n",
      "Kiwi\n",
      "9\n",
      "grapefruit\n",
      "15\n",
      "grape\n",
      "10\n"
     ]
    }
   ],
   "source": [
    "for key,value in copied_fruit.items():\n",
    "    print(key)\n",
    "    print(value)"
   ]
  },
  {
   "cell_type": "markdown",
   "id": "d9b8757f",
   "metadata": {},
   "source": [
    "## Function"
   ]
  },
  {
   "cell_type": "markdown",
   "id": "48a7a441",
   "metadata": {},
   "source": [
    "def function(<params>):\n",
    "    <code>\n",
    "    return<data>"
   ]
  },
  {
   "cell_type": "code",
   "execution_count": 78,
   "id": "bb45fdf1",
   "metadata": {},
   "outputs": [],
   "source": [
    "def sum_function(x,y):\n",
    "    sum_1 = x+y\n",
    "    return sum_1"
   ]
  },
  {
   "cell_type": "code",
   "execution_count": 80,
   "id": "20ed63ff",
   "metadata": {},
   "outputs": [
    {
     "data": {
      "text/plain": [
       "38"
      ]
     },
     "execution_count": 80,
     "metadata": {},
     "output_type": "execute_result"
    }
   ],
   "source": [
    "##calling a function\n",
    "sum_function(18,20)"
   ]
  },
  {
   "cell_type": "code",
   "execution_count": 2,
   "id": "4cb7c08e",
   "metadata": {},
   "outputs": [],
   "source": [
    "def substract(ab,cd):\n",
    "    x = cd - ab\n",
    "    return x"
   ]
  },
  {
   "cell_type": "code",
   "execution_count": 3,
   "id": "a21a454b",
   "metadata": {},
   "outputs": [
    {
     "data": {
      "text/plain": [
       "-80"
      ]
     },
     "execution_count": 3,
     "metadata": {},
     "output_type": "execute_result"
    }
   ],
   "source": [
    "substract(90, 10)"
   ]
  },
  {
   "cell_type": "code",
   "execution_count": 4,
   "id": "2e94ff38",
   "metadata": {},
   "outputs": [
    {
     "data": {
      "text/plain": [
       "950"
      ]
     },
     "execution_count": 4,
     "metadata": {},
     "output_type": "execute_result"
    }
   ],
   "source": [
    "substract(50, 1000)"
   ]
  },
  {
   "cell_type": "code",
   "execution_count": 6,
   "id": "73d9a437",
   "metadata": {},
   "outputs": [],
   "source": [
    "y = 2*4"
   ]
  },
  {
   "cell_type": "code",
   "execution_count": 8,
   "id": "46893735",
   "metadata": {},
   "outputs": [
    {
     "data": {
      "text/plain": [
       "240"
      ]
     },
     "execution_count": 8,
     "metadata": {},
     "output_type": "execute_result"
    }
   ],
   "source": [
    "y * substract(60,90)"
   ]
  },
  {
   "cell_type": "markdown",
   "id": "4456c6ff",
   "metadata": {},
   "source": [
    "## InBuilt Function"
   ]
  },
  {
   "cell_type": "code",
   "execution_count": 9,
   "id": "c3e32a25",
   "metadata": {},
   "outputs": [
    {
     "data": {
      "text/plain": [
       "170"
      ]
     },
     "execution_count": 9,
     "metadata": {},
     "output_type": "execute_result"
    }
   ],
   "source": [
    "list_x = [55,90,170,67,34,20]\n",
    "max(list_x)"
   ]
  },
  {
   "cell_type": "code",
   "execution_count": 10,
   "id": "0aacbf67",
   "metadata": {},
   "outputs": [
    {
     "data": {
      "text/plain": [
       "170"
      ]
     },
     "execution_count": 10,
     "metadata": {},
     "output_type": "execute_result"
    }
   ],
   "source": [
    "max([55,90,170,67,34,20])"
   ]
  },
  {
   "cell_type": "code",
   "execution_count": 11,
   "id": "723bfe3e",
   "metadata": {},
   "outputs": [
    {
     "data": {
      "text/plain": [
       "6"
      ]
     },
     "execution_count": 11,
     "metadata": {},
     "output_type": "execute_result"
    }
   ],
   "source": [
    "len(list_x)"
   ]
  },
  {
   "cell_type": "code",
   "execution_count": 15,
   "id": "d77aa255",
   "metadata": {},
   "outputs": [],
   "source": [
    "L2 = 2*len(list_x)"
   ]
  },
  {
   "cell_type": "code",
   "execution_count": 16,
   "id": "7e178f98",
   "metadata": {},
   "outputs": [
    {
     "data": {
      "text/plain": [
       "12"
      ]
     },
     "execution_count": 16,
     "metadata": {},
     "output_type": "execute_result"
    }
   ],
   "source": [
    "L2"
   ]
  },
  {
   "cell_type": "code",
   "execution_count": 17,
   "id": "a9f01ed5",
   "metadata": {},
   "outputs": [
    {
     "data": {
      "text/plain": [
       "20"
      ]
     },
     "execution_count": 17,
     "metadata": {},
     "output_type": "execute_result"
    }
   ],
   "source": [
    "min(list_x)"
   ]
  },
  {
   "cell_type": "code",
   "execution_count": 18,
   "id": "1ac06b02",
   "metadata": {},
   "outputs": [
    {
     "data": {
      "text/plain": [
       "list"
      ]
     },
     "execution_count": 18,
     "metadata": {},
     "output_type": "execute_result"
    }
   ],
   "source": [
    "type(list_x)"
   ]
  },
  {
   "cell_type": "code",
   "execution_count": 19,
   "id": "39415fb4",
   "metadata": {},
   "outputs": [
    {
     "data": {
      "text/plain": [
       "range(5, 10, 50)"
      ]
     },
     "execution_count": 19,
     "metadata": {},
     "output_type": "execute_result"
    }
   ],
   "source": [
    "range(5,10,50)"
   ]
  },
  {
   "cell_type": "code",
   "execution_count": 22,
   "id": "ca1b9c17",
   "metadata": {},
   "outputs": [
    {
     "name": "stdout",
     "output_type": "stream",
     "text": [
      "1\n",
      "3\n",
      "5\n",
      "7\n",
      "9\n"
     ]
    }
   ],
   "source": [
    "for i in range(1,10,2):\n",
    "    print(i)"
   ]
  },
  {
   "cell_type": "markdown",
   "id": "3c589ab8",
   "metadata": {},
   "source": [
    "## OS Module"
   ]
  },
  {
   "cell_type": "code",
   "execution_count": 23,
   "id": "c870c6c9",
   "metadata": {},
   "outputs": [],
   "source": [
    "import os"
   ]
  },
  {
   "cell_type": "code",
   "execution_count": 24,
   "id": "d5cd1152",
   "metadata": {},
   "outputs": [
    {
     "data": {
      "text/plain": [
       "'C:\\\\Users\\\\48502\\\\Documents\\\\BI and ETL Training\\\\Training\\\\python data analysis\\\\pythonJupyterDataAnalysis'"
      ]
     },
     "execution_count": 24,
     "metadata": {},
     "output_type": "execute_result"
    }
   ],
   "source": [
    "os.getcwd()"
   ]
  },
  {
   "cell_type": "code",
   "execution_count": 27,
   "id": "e3270310",
   "metadata": {},
   "outputs": [
    {
     "data": {
      "text/plain": [
       "['.git', '.ipynb_checkpoints', '.Rhistory', 'BasicStart.ipynb', 'README.md']"
      ]
     },
     "execution_count": 27,
     "metadata": {},
     "output_type": "execute_result"
    }
   ],
   "source": [
    "os.listdir()"
   ]
  },
  {
   "cell_type": "code",
   "execution_count": 28,
   "id": "98dad977",
   "metadata": {},
   "outputs": [
    {
     "data": {
      "text/plain": [
       "['.git',\n",
       " '.ipynb_checkpoints',\n",
       " '.Rhistory',\n",
       " 'BasicStart.ipynb',\n",
       " 'README.md',\n",
       " 'samplefolder']"
      ]
     },
     "execution_count": 28,
     "metadata": {},
     "output_type": "execute_result"
    }
   ],
   "source": [
    "os.makedirs(\"samplefolder\")\n",
    "os.listdir()"
   ]
  },
  {
   "cell_type": "code",
   "execution_count": 4,
   "id": "6f7e2b25",
   "metadata": {},
   "outputs": [
    {
     "name": "stdout",
     "output_type": "stream",
     "text": [
      "['head', 'tail', 'head', 'head', 'head', 'head', 'head', 'tail', 'tail', 'head']\n"
     ]
    }
   ],
   "source": [
    "##recording outcomes of tossed coin\n",
    "import numpy as np\n",
    "np.random.seed(123)\n",
    "outcome = []\n",
    "\n",
    "for i in range(10):\n",
    "    coin = np.random.randint(0,2)\n",
    "    if coin == 0:\n",
    "        outcome.append(\"head\")\n",
    "    else:\n",
    "        outcome.append(\"tail\")\n",
    "print(outcome)"
   ]
  },
  {
   "cell_type": "code",
   "execution_count": null,
   "id": "99c6e02f",
   "metadata": {},
   "outputs": [],
   "source": []
  }
 ],
 "metadata": {
  "kernelspec": {
   "display_name": "Python 3 (ipykernel)",
   "language": "python",
   "name": "python3"
  },
  "language_info": {
   "codemirror_mode": {
    "name": "ipython",
    "version": 3
   },
   "file_extension": ".py",
   "mimetype": "text/x-python",
   "name": "python",
   "nbconvert_exporter": "python",
   "pygments_lexer": "ipython3",
   "version": "3.9.7"
  }
 },
 "nbformat": 4,
 "nbformat_minor": 5
}
